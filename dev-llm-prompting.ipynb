{
 "cells": [
  {
   "cell_type": "code",
   "execution_count": 3,
   "metadata": {},
   "outputs": [],
   "source": [
    "%%capture\n",
    "from dotenv import load_dotenv\n",
    "\n",
    "import wandb\n",
    "import weave\n",
    "from openai import OpenAI\n",
    "import os\n",
    "import litellm # standardize model interface and makes it easy to swap models\n",
    "completion = litellm.completion"
   ]
  },
  {
   "cell_type": "code",
   "execution_count": 7,
   "metadata": {},
   "outputs": [],
   "source": [
    "def configure():\n",
    "    load_dotenv()\n",
    "\n",
    "# load configuration\n",
    "configure()\n",
    "\n",
    "#client = OpenAI(api_key= os.getenv(\"OPENAI_API_KEY\"))"
   ]
  },
  {
   "cell_type": "markdown",
   "metadata": {},
   "source": [
    "### Model and Prompt config\n"
   ]
  },
  {
   "cell_type": "code",
   "execution_count": 6,
   "metadata": {},
   "outputs": [],
   "source": [
    "# These variables store the names of different language models from Anthropic and OpenAI. \n",
    "# The \"SMART\" models (`claude-3-opus` and `gpt-4-turbo`) are more capable but slower, \n",
    "# while the \"FAST\" models (`claude-3-haiku` and `gpt-3.5-turbo`) are faster but less powerful.\n",
    "ANTHROPIC_SMART_MODEL_NAME = \"claude-3-opus-20240229\"\n",
    "ANTHROPIC_FAST_MODEL_NAME = \"claude-3-haiku-20240307\"\n",
    "OPENAI_SMART_MODEL_NAME = \"gpt-4-turbo-2024-04-09\"\n",
    "OPENAI_FAST_MODEL_NAME = \"gpt-3.5-turbo\"\n",
    "\n",
    "# These variables point to two different markdown files containing prompt engineering guides. \n",
    "# `AMAN_PROMPT_GUIDE` refers to Aman Chadha's guide, while `LILIAN_PROMPT_GUIDE` refers to Lilian Weng's guide.\n",
    "AMAN_PROMPT_GUIDE = \"aman_prompt_engineering.md\"\n",
    "LILIAN_PROMPT_GUIDE = \"lilianweng_prompt_engineering.md\"\n",
    "\n",
    "# Here, the `MODEL_NAME` variable is set to use Anthropic's fast model (`claude-3-haiku`), \n",
    "# and the `PROMPT_GUIDE` variable selects Lilian Weng's prompt engineering guide.\n",
    "MODEL_NAME = ANTHROPIC_SMART_MODEL_NAME\n",
    "PROMPT_GUIDE = LILIAN_PROMPT_GUIDE"
   ]
  },
  {
   "cell_type": "markdown",
   "metadata": {},
   "source": [
    "### Initialize Weave project for tracking"
   ]
  },
  {
   "cell_type": "code",
   "execution_count": 8,
   "metadata": {},
   "outputs": [
    {
     "name": "stdout",
     "output_type": "stream",
     "text": [
      "Logged in as Weights & Biases user: mikhailry.\n",
      "View Weave data at https://wandb.ai/mikhailry-paylocity/dev-llm-prompting-course/weave\n"
     ]
    },
    {
     "data": {
      "text/plain": [
       "<weave.trace.weave_client.WeaveClient at 0x140dcb6a0>"
      ]
     },
     "execution_count": 8,
     "metadata": {},
     "output_type": "execute_result"
    }
   ],
   "source": [
    "weave.init(\"dev-llm-prompting-course\")"
   ]
  },
  {
   "cell_type": "code",
   "execution_count": null,
   "metadata": {},
   "outputs": [],
   "source": []
  },
  {
   "cell_type": "code",
   "execution_count": null,
   "metadata": {},
   "outputs": [],
   "source": []
  },
  {
   "cell_type": "code",
   "execution_count": null,
   "metadata": {},
   "outputs": [],
   "source": []
  }
 ],
 "metadata": {
  "kernelspec": {
   "display_name": "LLMs",
   "language": "python",
   "name": "python3"
  },
  "language_info": {
   "codemirror_mode": {
    "name": "ipython",
    "version": 3
   },
   "file_extension": ".py",
   "mimetype": "text/x-python",
   "name": "python",
   "nbconvert_exporter": "python",
   "pygments_lexer": "ipython3",
   "version": "3.10.14"
  }
 },
 "nbformat": 4,
 "nbformat_minor": 2
}
